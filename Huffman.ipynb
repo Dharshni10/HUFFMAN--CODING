{
 "cells": [
  {
   "cell_type": "code",
   "execution_count": 32,
   "id": "84aaf74b-d5a8-4c2f-a822-d333b7eee51e",
   "metadata": {},
   "outputs": [],
   "source": [
    "#Dharshni V M\n",
    "#212223240029"
   ]
  },
  {
   "cell_type": "code",
   "execution_count": 33,
   "id": "b89f1075-284a-4a23-aee1-a6253497ab00",
   "metadata": {},
   "outputs": [],
   "source": [
    "string =\"DHARSHNI V M\""
   ]
  },
  {
   "cell_type": "code",
   "execution_count": 34,
   "id": "f267c49a-d5af-47ae-b2af-a9bf0411eb09",
   "metadata": {},
   "outputs": [],
   "source": [
    "class NodeTree(object):\n",
    "    def __init__(self, left=None, right=None): \n",
    "        self.left = left\n",
    "        self.right=right\n",
    "    def children(self):\n",
    "        return (self.left,self.right)\n",
    "    def nodes (self):\n",
    "        return (self.left,self.right)\n",
    "    def __str__(self):\n",
    "        return '%s %s' %(self.left,self.right)"
   ]
  },
  {
   "cell_type": "code",
   "execution_count": 35,
   "id": "6dab6aa2-78f0-4907-8115-aef231c0469c",
   "metadata": {},
   "outputs": [],
   "source": [
    "def huffman_code_tree (node, left=True, binString=''):\n",
    "    if type(node) is str:\n",
    "        return {node: binString}\n",
    "    (l, r) = node.children()\n",
    "    d = dict()\n",
    "    d.update(huffman_code_tree (l, True, binString + '0'))\n",
    "    d.update(huffman_code_tree (r, False, binString + '1'))\n",
    "    return d"
   ]
  },
  {
   "cell_type": "code",
   "execution_count": 36,
   "id": "991febbb-73b5-4f40-901f-e680137add91",
   "metadata": {},
   "outputs": [],
   "source": [
    "#Dharshni V M \n",
    "#212223240029"
   ]
  },
  {
   "cell_type": "code",
   "execution_count": 37,
   "id": "f11f66f5-7c22-402b-bcbe-bd0e4261a0c8",
   "metadata": {},
   "outputs": [],
   "source": [
    "freq = {}\n",
    "for c in string:\n",
    "    if c in freq:\n",
    "        freq[c] += 1\n",
    "    else:\n",
    "        freq[c] = 1\n",
    "freq = sorted(freq.items(), key=lambda x: x[1], reverse=True)\n",
    "nodes=freq\n",
    "while len(nodes)>1:\n",
    "    (key1,c1)=nodes[-1]\n",
    "    (key2,c2)=nodes[-2]\n",
    "    nodes = nodes[:-2]\n",
    "    node = NodeTree (key1, key2)\n",
    "    nodes.append((node,c1 + c2))\n",
    "    nodes = sorted (nodes, key=lambda x: x[1], reverse=True)"
   ]
  },
  {
   "cell_type": "code",
   "execution_count": 38,
   "id": "f6ddf6d0-4ea7-401a-8d1f-d2ebd29feaae",
   "metadata": {},
   "outputs": [
    {
     "name": "stdout",
     "output_type": "stream",
     "text": [
      "Character | Huffman code \n",
      "----------------------\n",
      "'H'  |          101\n",
      "' '  |          100\n",
      "'D'  |          001\n",
      "'A'  |          000\n",
      "'R'  |          011\n",
      "'S'  |          010\n",
      "'N'  |         1101\n",
      "'I'  |         1100\n",
      "'V'  |         1111\n",
      "'M'  |         1110\n"
     ]
    }
   ],
   "source": [
    "huffmanCode=huffman_code_tree(nodes[0][0])\n",
    "print('Character | Huffman code ') \n",
    "print('----------------------')\n",
    "for (char, frequency) in freq:\n",
    "    print('%-4r | %12s'%(char,huffmanCode[char]))"
   ]
  }
 ],
 "metadata": {
  "kernelspec": {
   "display_name": "Python 3 (ipykernel)",
   "language": "python",
   "name": "python3"
  },
  "language_info": {
   "codemirror_mode": {
    "name": "ipython",
    "version": 3
   },
   "file_extension": ".py",
   "mimetype": "text/x-python",
   "name": "python",
   "nbconvert_exporter": "python",
   "pygments_lexer": "ipython3",
   "version": "3.11.11"
  }
 },
 "nbformat": 4,
 "nbformat_minor": 5
}
